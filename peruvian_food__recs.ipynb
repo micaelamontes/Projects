{
  "nbformat": 4,
  "nbformat_minor": 0,
  "metadata": {
    "colab": {
      "provenance": [],
      "collapsed_sections": [
        "-GRt4auN7aGn"
      ]
    },
    "kernelspec": {
      "name": "python3",
      "display_name": "Python 3"
    },
    "language_info": {
      "name": "python"
    }
  },
  "cells": [
    {
      "cell_type": "markdown",
      "source": [
        "# Where do you want to eat? - By Micaela Montes\n",
        "---\n",
        "\n"
      ],
      "metadata": {
        "id": "DCHUt77h_rd2"
      }
    },
    {
      "cell_type": "markdown",
      "source": [
        "## Project overview and setup"
      ],
      "metadata": {
        "id": "-GRt4auN7aGn"
      }
    },
    {
      "cell_type": "markdown",
      "source": [
        "Hi there! My friends and I are travelling to Peru for spring break, and want to make each meal count by going to the best restaurants.\n",
        "\n",
        "\n",
        "\n",
        "\n",
        "\n",
        "In order to make a list of restaurants to choose from, I thought it was a good idea to make a sentiment analysis model to process and analyze customer reviews of restaurants in Peru. By doing this, I can find the most valued places to eat, and the restaurant search will be easier.\n",
        "\n",
        "\n",
        "The dataset used for this project comes from Kaggle and can be found using this [link](https://www.kaggle.com/datasets/lazaro97/peruvian-food-reviews)."
      ],
      "metadata": {
        "id": "Z0jPI9ZeAuLQ"
      }
    },
    {
      "cell_type": "code",
      "execution_count": 66,
      "metadata": {
        "colab": {
          "base_uri": "https://localhost:8080/"
        },
        "id": "PzR_KaYMr23A",
        "outputId": "98d480d3-4a13-4566-b4d7-d269c886ae09"
      },
      "outputs": [
        {
          "output_type": "stream",
          "name": "stdout",
          "text": [
            "Requirement already satisfied: pyspark in /usr/local/lib/python3.10/dist-packages (3.5.0)\n",
            "Requirement already satisfied: py4j==0.10.9.7 in /usr/local/lib/python3.10/dist-packages (from pyspark) (0.10.9.7)\n"
          ]
        }
      ],
      "source": [
        "!pip install pyspark"
      ]
    },
    {
      "cell_type": "code",
      "source": [
        "from google.colab import drive\n",
        "drive.mount('/content/drive')"
      ],
      "metadata": {
        "colab": {
          "base_uri": "https://localhost:8080/"
        },
        "id": "EHfyxeYr2Bwx",
        "outputId": "02ce7f25-7353-49d3-b654-3f4a7a66e566"
      },
      "execution_count": 67,
      "outputs": [
        {
          "output_type": "stream",
          "name": "stdout",
          "text": [
            "Drive already mounted at /content/drive; to attempt to forcibly remount, call drive.mount(\"/content/drive\", force_remount=True).\n"
          ]
        }
      ]
    },
    {
      "cell_type": "code",
      "source": [
        "!ls \"/content/drive/My Drive/projects/peruvian_food/peruvian_food_dataset/\""
      ],
      "metadata": {
        "colab": {
          "base_uri": "https://localhost:8080/"
        },
        "id": "xIbg3qsM4Z9z",
        "outputId": "24775ea4-2991-464a-ce3a-207dd906be22"
      },
      "execution_count": 68,
      "outputs": [
        {
          "output_type": "stream",
          "name": "stdout",
          "text": [
            "data\n"
          ]
        }
      ]
    },
    {
      "cell_type": "code",
      "source": [
        "from pyspark.sql import SparkSession\n",
        "\n",
        "spark = SparkSession.builder\\\n",
        "        .master(\"local[*]\")\\\n",
        "        .appName(\"PeruvianFoodAnalysis\")\\\n",
        "        .getOrCreate()"
      ],
      "metadata": {
        "id": "FdIIok802Q1W"
      },
      "execution_count": 69,
      "outputs": []
    },
    {
      "cell_type": "markdown",
      "source": [
        "## Mounting the relevant csv files:\n",
        "\n"
      ],
      "metadata": {
        "id": "6gtgNjCA8J69"
      }
    },
    {
      "cell_type": "code",
      "source": [
        "# Table 1: Restaurants\n",
        "restaurants_df = spark.read.csv(\n",
        "    '/content/drive/My Drive/projects/peruvian_food/peruvian_food_dataset/data/restaurants.csv/',\n",
        "    header=True,  # Assumes the first row is the header\n",
        "    inferSchema=True  # Infers the schema of the columns based on the data\n",
        ")\n",
        "\n",
        "# Table 2: Reviews\n",
        "reviews_df = spark.read.csv(\n",
        "    '/content/drive/My Drive/projects/peruvian_food/peruvian_food_dataset/data/reviews.csv/',\n",
        "    header=True,\n",
        "    inferSchema=True\n",
        ")\n",
        "\n",
        "# Lexicons\n",
        "afinn_df = spark.read.csv(\"/content/drive/My Drive/projects/peruvian_food/peruvian_food_dataset/data/spanish-nrc/lexico_afinn.csv\", header=True, inferSchema=True)\n",
        "nrc_df = spark.read.csv(\"/content/drive/My Drive/projects/peruvian_food/peruvian_food_dataset/data/spanish-nrc/lexico_nrc.csv\", header=True, inferSchema=True)\n",
        "\n",
        "# Show the first few rows of reviews and restaurants dataframes to verify everything looks good\n",
        "restaurants_df.show(5)\n",
        "reviews_df.show(5)"
      ],
      "metadata": {
        "colab": {
          "base_uri": "https://localhost:8080/"
        },
        "id": "RlQfd6_e3GEc",
        "outputId": "302292c3-fe34-40f1-9ae9-e9ea32cb4ec0"
      },
      "execution_count": 70,
      "outputs": [
        {
          "output_type": "stream",
          "name": "stdout",
          "text": [
            "+------+--------------------+--------------------+----------+----------+----------+------+--------------------+-----+---------+---------+---------+-----------+\n",
            "|    id|                name|                 tag|         x|         y|  district|IDDIST|           direction|stars|n_reviews|min_price|max_price|   platform|\n",
            "+------+--------------------+--------------------+----------+----------+----------+------+--------------------+-----+---------+---------+---------+-----------+\n",
            "| 71036| Restaurante Statera|$$$$||Peruana||co...|-12.115658| -77.04344|MIRAFLORES|150122|Avenida Mariscal ...|   50|      130|     80.0|    280.0|tripadvisor|\n",
            "| 72471|   Maras Restaurante|$$$$||Peruana||La...|-12.092106| -77.02466|SAN ISIDRO|150131|Amador Merino Rey...|   45|      675|    158.0|    237.0|tripadvisor|\n",
            "| 29667|Ventarrón Restaur...|$$ - $$$||Peruana...|-12.149373|-77.020706|  BARRANCO|150104|Avenida Grau 276 ...|   45|      304|     12.0|     72.0|tripadvisor|\n",
            "|144186|Aji 555 Real Thai...|$$ - $$$||Asiátic...|-12.105918| -76.99234| SAN BORJA|150130|Av. San Luis 2879...|   45|      361|     20.0|     83.0|tripadvisor|\n",
            "|124291|   Cebicheria La Mar|$$ - $$$||Peruana...|-12.113314|  -77.0454|MIRAFLORES|150122|Av. La Mar 770 Mi...|   45|     4864|     79.0|     99.0|tripadvisor|\n",
            "+------+--------------------+--------------------+----------+----------+----------+------+--------------------+-----+---------+---------+---------+-----------+\n",
            "only showing top 5 rows\n",
            "\n",
            "+---------+--------------------+--------------------+-----+-----+-------------------+-------+-----------+-----------+\n",
            "|id_review|              review|               title|score|likes|            id_nick|service|       date|   platform|\n",
            "+---------+--------------------+--------------------+-----+-----+-------------------+-------+-----------+-----------+\n",
            "|    R1245|Muy buena present...|Muy buena present...|  3.0|    0|    uisahelenad2018|71036.0|1 years ago|tripadvisor|\n",
            "|    R1246|Desde la presenta...|     Una experiencia|  5.0|    0|           turrutia|71036.0|1 years ago|tripadvisor|\n",
            "|    R1247|El mejor lugar pa...|Felicitaciones a ...|  5.0|    0|orthStar25333985745|71036.0|1 years ago|tripadvisor|\n",
            "|    R1248|Excelente experie...| Aniversario de boda|  5.0|    0|            atima J|71036.0|1 years ago|tripadvisor|\n",
            "|    R1249|Mi pasión es viaj...|                NULL| NULL| NULL|               NULL|   NULL|       NULL|       NULL|\n",
            "+---------+--------------------+--------------------+-----+-----+-------------------+-------+-----------+-----------+\n",
            "only showing top 5 rows\n",
            "\n"
          ]
        }
      ]
    },
    {
      "cell_type": "code",
      "source": [
        "restaurants_df.printSchema()\n",
        "reviews_df.printSchema()"
      ],
      "metadata": {
        "colab": {
          "base_uri": "https://localhost:8080/"
        },
        "id": "DSK8eliw66Zt",
        "outputId": "cf4c0e58-a169-4a47-b6a5-b19a730ae476"
      },
      "execution_count": 71,
      "outputs": [
        {
          "output_type": "stream",
          "name": "stdout",
          "text": [
            "root\n",
            " |-- id: integer (nullable = true)\n",
            " |-- name: string (nullable = true)\n",
            " |-- tag: string (nullable = true)\n",
            " |-- x: string (nullable = true)\n",
            " |-- y: double (nullable = true)\n",
            " |-- district: string (nullable = true)\n",
            " |-- IDDIST: string (nullable = true)\n",
            " |-- direction: string (nullable = true)\n",
            " |-- stars: string (nullable = true)\n",
            " |-- n_reviews: string (nullable = true)\n",
            " |-- min_price: string (nullable = true)\n",
            " |-- max_price: string (nullable = true)\n",
            " |-- platform: string (nullable = true)\n",
            "\n",
            "root\n",
            " |-- id_review: string (nullable = true)\n",
            " |-- review: string (nullable = true)\n",
            " |-- title: string (nullable = true)\n",
            " |-- score: string (nullable = true)\n",
            " |-- likes: string (nullable = true)\n",
            " |-- id_nick: string (nullable = true)\n",
            " |-- service: string (nullable = true)\n",
            " |-- date: string (nullable = true)\n",
            " |-- platform: string (nullable = true)\n",
            "\n"
          ]
        }
      ]
    },
    {
      "cell_type": "markdown",
      "source": [
        "Selecting Relevant Columns:"
      ],
      "metadata": {
        "id": "-DwR8owO85fM"
      }
    },
    {
      "cell_type": "code",
      "source": [
        "restaurants = restaurants_df['id', 'name', 'district']\n",
        "reviews = reviews_df['id_review', 'review', 'service', 'score']"
      ],
      "metadata": {
        "id": "0PUUg9xe7aWm"
      },
      "execution_count": 72,
      "outputs": []
    },
    {
      "cell_type": "code",
      "source": [
        "reviews.select(\"id_review\").show()"
      ],
      "metadata": {
        "colab": {
          "base_uri": "https://localhost:8080/"
        },
        "id": "V5ZFrc7jb82W",
        "outputId": "da7bda3d-db79-4cf3-ced0-eded4855fde9"
      },
      "execution_count": 73,
      "outputs": [
        {
          "output_type": "stream",
          "name": "stdout",
          "text": [
            "+--------------------+\n",
            "|           id_review|\n",
            "+--------------------+\n",
            "|               R1245|\n",
            "|               R1246|\n",
            "|               R1247|\n",
            "|               R1248|\n",
            "|               R1249|\n",
            "|Statera no tiene ...|\n",
            "|               R1250|\n",
            "|Algo que me gustó...|\n",
            "|               R1251|\n",
            "|               R1252|\n",
            "|               R1253|\n",
            "|               R1254|\n",
            "|               R1255|\n",
            "|               R1256|\n",
            "|               R1257|\n",
            "|Mejorar urgente e...|\n",
            "|               R1258|\n",
            "|               R1259|\n",
            "|               R1260|\n",
            "|               R1261|\n",
            "+--------------------+\n",
            "only showing top 20 rows\n",
            "\n"
          ]
        }
      ]
    },
    {
      "cell_type": "markdown",
      "source": [
        "How much information do we have in terms of reviews and number of restaurants?"
      ],
      "metadata": {
        "id": "cKpmZDE8JGLq"
      }
    },
    {
      "cell_type": "code",
      "source": [
        "reviews.count()"
      ],
      "metadata": {
        "colab": {
          "base_uri": "https://localhost:8080/"
        },
        "id": "E_SLrK9dJRwR",
        "outputId": "ff4066a2-be77-4a52-ac67-e468a258acec"
      },
      "execution_count": 74,
      "outputs": [
        {
          "output_type": "execute_result",
          "data": {
            "text/plain": [
              "1345723"
            ]
          },
          "metadata": {},
          "execution_count": 74
        }
      ]
    },
    {
      "cell_type": "code",
      "source": [
        "restaurants.count()"
      ],
      "metadata": {
        "colab": {
          "base_uri": "https://localhost:8080/"
        },
        "id": "fgkemmMFJU0K",
        "outputId": "5035945f-ea9c-4643-8126-9772184966e3"
      },
      "execution_count": 75,
      "outputs": [
        {
          "output_type": "execute_result",
          "data": {
            "text/plain": [
              "9871"
            ]
          },
          "metadata": {},
          "execution_count": 75
        }
      ]
    },
    {
      "cell_type": "markdown",
      "source": [
        "## Cleaning the Review df"
      ],
      "metadata": {
        "id": "MWv_j9Rd-3tJ"
      }
    },
    {
      "cell_type": "markdown",
      "source": [
        "Since there are over 130,000 reviews, I can clean the dataset without worrying too much about losing important information."
      ],
      "metadata": {
        "id": "ZbYBI_kNIaCE"
      }
    },
    {
      "cell_type": "code",
      "source": [
        "from pyspark.sql.functions import col\n",
        "\n",
        "# Filter to keep only rows where 'id_review' starts with 'R'\n",
        "filtered_reviews = reviews.filter(col(\"id_review\").startswith(\"R\"))\n",
        "filtered_reviews.select(\"id_review\").show()"
      ],
      "metadata": {
        "colab": {
          "base_uri": "https://localhost:8080/"
        },
        "id": "HkhDXiJ_iKR2",
        "outputId": "0b499714-2d03-4e8b-9465-52aac0fc5d52"
      },
      "execution_count": 76,
      "outputs": [
        {
          "output_type": "stream",
          "name": "stdout",
          "text": [
            "+---------+\n",
            "|id_review|\n",
            "+---------+\n",
            "|    R1245|\n",
            "|    R1246|\n",
            "|    R1247|\n",
            "|    R1248|\n",
            "|    R1249|\n",
            "|    R1250|\n",
            "|    R1251|\n",
            "|    R1252|\n",
            "|    R1253|\n",
            "|    R1254|\n",
            "|    R1255|\n",
            "|    R1256|\n",
            "|    R1257|\n",
            "|    R1258|\n",
            "|    R1259|\n",
            "|    R1260|\n",
            "|    R1261|\n",
            "|    R1262|\n",
            "|    R1263|\n",
            "|    R1264|\n",
            "+---------+\n",
            "only showing top 20 rows\n",
            "\n"
          ]
        }
      ]
    },
    {
      "cell_type": "code",
      "source": [
        "from pyspark.sql.functions import col, lower, regexp_replace\n",
        "\n",
        "\n",
        "filtered_reviews = filtered_reviews.withColumn(\"review\", lower(col(\"review\"))) #lower case\n",
        "regex = \"[^a-zA-ZáéíóúÁÉÍÓÚñÑ\\s]\"\n",
        "filtered_reviews = filtered_reviews.withColumn(\"review\", regexp_replace(col(\"review\"), regex, \"\"))\n",
        "filtered_reviews = filtered_reviews.withColumn(\"review\", regexp_replace(col(\"review\"), \"\\s+\", \" \")) #remove double spaces\n",
        "\n",
        "\n",
        "# Remove duplicates\n",
        "filtered_reviews = filtered_reviews.dropDuplicates(['id_review'])"
      ],
      "metadata": {
        "id": "hfbZJ61D-2Jj"
      },
      "execution_count": 77,
      "outputs": []
    },
    {
      "cell_type": "code",
      "source": [
        "filtered_reviews.select(\"id_review\").show(5)"
      ],
      "metadata": {
        "colab": {
          "base_uri": "https://localhost:8080/"
        },
        "id": "iKxRih6SYMSB",
        "outputId": "e5d649b8-c096-493c-c0cd-59f889f08fb8"
      },
      "execution_count": 78,
      "outputs": [
        {
          "output_type": "stream",
          "name": "stdout",
          "text": [
            "+---------+\n",
            "|id_review|\n",
            "+---------+\n",
            "|    R3030|\n",
            "|    R3673|\n",
            "|    R3814|\n",
            "|    R3940|\n",
            "|    R4314|\n",
            "+---------+\n",
            "only showing top 5 rows\n",
            "\n"
          ]
        }
      ]
    },
    {
      "cell_type": "markdown",
      "source": [
        "Drop missing values:"
      ],
      "metadata": {
        "id": "UEUaM6S_BK05"
      }
    },
    {
      "cell_type": "code",
      "source": [
        "# Drop rows with missing reviews\n",
        "filtered_reviews = filtered_reviews.na.drop(subset=[\"review\"])\n",
        "filtered_reviews = filtered_reviews.na.drop(subset=[\"service\"])\n",
        "filtered_reviews = filtered_reviews.na.drop(subset=[\"score\"])"
      ],
      "metadata": {
        "id": "jCCDT715AvlJ"
      },
      "execution_count": 79,
      "outputs": []
    },
    {
      "cell_type": "code",
      "source": [
        "filtered_reviews.select(\"id_review\").show(5)\n"
      ],
      "metadata": {
        "colab": {
          "base_uri": "https://localhost:8080/"
        },
        "id": "_9vfeQ0fpDSP",
        "outputId": "ded11a1a-401c-4119-802d-024b6f9bffd0"
      },
      "execution_count": 80,
      "outputs": [
        {
          "output_type": "stream",
          "name": "stdout",
          "text": [
            "+---------+\n",
            "|id_review|\n",
            "+---------+\n",
            "| R1000000|\n",
            "| R1000001|\n",
            "| R1000003|\n",
            "| R1000005|\n",
            "| R1000006|\n",
            "+---------+\n",
            "only showing top 5 rows\n",
            "\n"
          ]
        }
      ]
    },
    {
      "cell_type": "markdown",
      "source": [
        "Tokenize and Remove Stop Words:"
      ],
      "metadata": {
        "id": "rEaWDy0WBZTG"
      }
    },
    {
      "cell_type": "code",
      "source": [
        "# Load stop words in Spanish\n",
        "!wget -O spanish_stop_words.txt https://raw.githubusercontent.com/Alir3z4/stop-words/master/spanish.txt"
      ],
      "metadata": {
        "colab": {
          "base_uri": "https://localhost:8080/"
        },
        "id": "FzW0YKb6CTeH",
        "outputId": "325fae42-3343-426c-f881-b2cabcb87658"
      },
      "execution_count": 81,
      "outputs": [
        {
          "output_type": "stream",
          "name": "stdout",
          "text": [
            "--2024-02-25 04:19:56--  https://raw.githubusercontent.com/Alir3z4/stop-words/master/spanish.txt\n",
            "Resolving raw.githubusercontent.com (raw.githubusercontent.com)... 185.199.108.133, 185.199.109.133, 185.199.110.133, ...\n",
            "Connecting to raw.githubusercontent.com (raw.githubusercontent.com)|185.199.108.133|:443... connected.\n",
            "HTTP request sent, awaiting response... 200 OK\n",
            "Length: 4244 (4.1K) [text/plain]\n",
            "Saving to: ‘spanish_stop_words.txt’\n",
            "\n",
            "spanish_stop_words. 100%[===================>]   4.14K  --.-KB/s    in 0s      \n",
            "\n",
            "2024-02-25 04:19:57 (22.2 MB/s) - ‘spanish_stop_words.txt’ saved [4244/4244]\n",
            "\n"
          ]
        }
      ]
    },
    {
      "cell_type": "code",
      "source": [
        "# Read the stop words file into a list\n",
        "with open('spanish_stop_words.txt', 'r') as file:\n",
        "    spanish_stop_words = file.read().splitlines()"
      ],
      "metadata": {
        "id": "K0Ljl9jTFVF5"
      },
      "execution_count": 82,
      "outputs": []
    },
    {
      "cell_type": "code",
      "source": [
        "from pyspark.ml.feature import Tokenizer, StopWordsRemover\n",
        "\n",
        "# Tokenize text\n",
        "tokenizer = Tokenizer(inputCol=\"review\", outputCol=\"words\")\n",
        "tokenized_df = tokenizer.transform(filtered_reviews)\n",
        "\n",
        "# Remove stop words\n",
        "\n",
        "remover = StopWordsRemover(inputCol=\"words\", outputCol=\"filtered_words\", stopWords=spanish_stop_words)\n",
        "filtered_reviews = remover.transform(tokenized_df)"
      ],
      "metadata": {
        "id": "MqQi2WuNBNno"
      },
      "execution_count": 83,
      "outputs": []
    },
    {
      "cell_type": "code",
      "source": [
        "filtered_reviews.select('filtered_words').show(truncate=False)"
      ],
      "metadata": {
        "colab": {
          "base_uri": "https://localhost:8080/"
        },
        "id": "5V-rSDdEDr5k",
        "outputId": "71aa0cfd-2e02-4e8b-a476-8251c08a80ec"
      },
      "execution_count": 84,
      "outputs": [
        {
          "output_type": "stream",
          "name": "stdout",
          "text": [
            "+------------------------------------------------------------------------------------------------------------------------+\n",
            "|filtered_words                                                                                                          |\n",
            "+------------------------------------------------------------------------------------------------------------------------+\n",
            "|[]                                                                                                                      |\n",
            "|[]                                                                                                                      |\n",
            "|[come, parrillas]                                                                                                       |\n",
            "|[excelente]                                                                                                             |\n",
            "|[muñequitos]                                                                                                            |\n",
            "|[comida, duda, espació, chico, servicio, pésimo, atención, recepción, mala, restaurante, colapsa, llenó]                |\n",
            "|[pasar, momentos, disfrutando, variedad, platos, ofrecen, carta]                                                        |\n",
            "|[pollito, riquísimo]                                                                                                    |\n",
            "|[gente, nota, esfuerzo, atención, vale]                                                                                 |\n",
            "|[bonito]                                                                                                                |\n",
            "|[pasa, ensaladas, vinagretas]                                                                                           |\n",
            "|[]                                                                                                                      |\n",
            "|[gusto]                                                                                                                 |\n",
            "|[pollos, brasa]                                                                                                         |\n",
            "|[pollo, chaufa]                                                                                                         |\n",
            "|[gusto]                                                                                                                 |\n",
            "|[rico, pollo, brasa, papas, fritas, excelentes, ensalada, salsa, emoliente, rico, dulce, opción, comer, elevado, precio]|\n",
            "|[parrillas]                                                                                                             |\n",
            "|[buenazooo]                                                                                                             |\n",
            "|[mala, atención]                                                                                                        |\n",
            "+------------------------------------------------------------------------------------------------------------------------+\n",
            "only showing top 20 rows\n",
            "\n"
          ]
        }
      ]
    },
    {
      "cell_type": "code",
      "source": [
        "# Getting rid of reviews with no words\n",
        "from pyspark.sql.functions import size\n",
        "\n",
        "# Filter out reviews where the 'filtered_words' array is empty\n",
        "filtered_reviews = filtered_reviews.filter(size(col(\"filtered_words\")) > 0)\n",
        "\n",
        "# Show the filtered DataFrame to verify\n",
        "filtered_reviews.select('filtered_words').show(10)"
      ],
      "metadata": {
        "colab": {
          "base_uri": "https://localhost:8080/"
        },
        "id": "Y7fyfgRQVKMo",
        "outputId": "976edac7-d614-42e4-c76e-3835340855a5"
      },
      "execution_count": 85,
      "outputs": [
        {
          "output_type": "stream",
          "name": "stdout",
          "text": [
            "+--------------------+\n",
            "|      filtered_words|\n",
            "+--------------------+\n",
            "|   [come, parrillas]|\n",
            "|         [excelente]|\n",
            "|        [muñequitos]|\n",
            "|[comida, duda, es...|\n",
            "|[pasar, momentos,...|\n",
            "|[pollito, riquísimo]|\n",
            "|[gente, nota, esf...|\n",
            "|            [bonito]|\n",
            "|[pasa, ensaladas,...|\n",
            "|             [gusto]|\n",
            "+--------------------+\n",
            "only showing top 10 rows\n",
            "\n"
          ]
        }
      ]
    },
    {
      "cell_type": "code",
      "source": [
        "filtered_reviews.columns"
      ],
      "metadata": {
        "colab": {
          "base_uri": "https://localhost:8080/"
        },
        "id": "UslLFyTJaWHL",
        "outputId": "5e877b86-98fe-4ae5-f127-4704147232f8"
      },
      "execution_count": 86,
      "outputs": [
        {
          "output_type": "execute_result",
          "data": {
            "text/plain": [
              "['id_review', 'review', 'service', 'score', 'words', 'filtered_words']"
            ]
          },
          "metadata": {},
          "execution_count": 86
        }
      ]
    },
    {
      "cell_type": "code",
      "source": [
        "filtered_reviews.select('score').show(10)"
      ],
      "metadata": {
        "colab": {
          "base_uri": "https://localhost:8080/"
        },
        "id": "6Io_pz3aegaH",
        "outputId": "898383f6-677a-482f-efd7-6150f3a56037"
      },
      "execution_count": 87,
      "outputs": [
        {
          "output_type": "stream",
          "name": "stdout",
          "text": [
            "+-----+\n",
            "|score|\n",
            "+-----+\n",
            "|  5.0|\n",
            "|  5.0|\n",
            "|  3.0|\n",
            "|  3.0|\n",
            "|  5.0|\n",
            "|  4.0|\n",
            "|  3.0|\n",
            "|  5.0|\n",
            "|  2.0|\n",
            "|  5.0|\n",
            "+-----+\n",
            "only showing top 10 rows\n",
            "\n"
          ]
        }
      ]
    },
    {
      "cell_type": "markdown",
      "source": [
        "##Sentiment Analysis with 'Review' column"
      ],
      "metadata": {
        "id": "yyma21i3I4j2"
      }
    },
    {
      "cell_type": "code",
      "source": [
        "## I want to see the min and max values of the scores\n",
        "\n",
        "from pyspark.sql.functions import min, max\n",
        "# cast type as integer\n",
        "from pyspark.sql.types import FloatType\n",
        "\n",
        "filtered_reviews = filtered_reviews.withColumn(\"score\", col(\"score\").cast(FloatType()))\n",
        "\n",
        "\n",
        "# Keep only the rows where 'score' is a numeric value\n",
        "numeric_filtered_df = filtered_reviews.filter(col(\"score\").isNotNull())\n",
        "filtered = numeric_filtered_df.filter(col(\"score\").rlike(\"^-?\\\\d+(\\\\.\\\\d+)?$\"))\n",
        "\n",
        "min_value = filtered.agg(min(\"score\")).collect()[0][0]\n",
        "max_value = filtered.agg(max(\"score\")).collect()[0][0]\n",
        "\n",
        "print(\"Minimum value:\", min_value)\n",
        "print(\"Maximum value:\", max_value)"
      ],
      "metadata": {
        "colab": {
          "base_uri": "https://localhost:8080/"
        },
        "id": "kAeTYnFK7Edi",
        "outputId": "a4a233cf-e9b7-484e-f4bc-f5f9430dcb99"
      },
      "execution_count": 88,
      "outputs": [
        {
          "output_type": "stream",
          "name": "stdout",
          "text": [
            "Minimum value: 0.0\n",
            "Maximum value: 5.0\n"
          ]
        }
      ]
    },
    {
      "cell_type": "code",
      "source": [
        "from pyspark.sql.functions import when\n",
        "\n",
        "# Define a threshold for positive sentiment\n",
        "threshold = 3\n",
        "\n",
        "# Create a new column 'sentiment_label' where scores greater than the threshold are labeled as positive (1)\n",
        "# and scores less than or equal to the threshold are labeled as negative (0)\n",
        "reviews_with_threshold = reviews.withColumn(\"sentiment_label\", when(col(\"Score\") > threshold, 1).otherwise(0))"
      ],
      "metadata": {
        "id": "OloSO-s6IccU"
      },
      "execution_count": 89,
      "outputs": []
    },
    {
      "cell_type": "code",
      "source": [
        "reviews_with_threshold.select(col(\"sentiment_label\")).show(10)"
      ],
      "metadata": {
        "id": "xOlwrXtg3gwE",
        "colab": {
          "base_uri": "https://localhost:8080/"
        },
        "outputId": "a21b6b9f-63ba-4a50-f38d-ffe0b0b3a759"
      },
      "execution_count": 90,
      "outputs": [
        {
          "output_type": "stream",
          "name": "stdout",
          "text": [
            "+---------------+\n",
            "|sentiment_label|\n",
            "+---------------+\n",
            "|              0|\n",
            "|              1|\n",
            "|              1|\n",
            "|              1|\n",
            "|              0|\n",
            "|              0|\n",
            "|              0|\n",
            "|              0|\n",
            "|              1|\n",
            "|              1|\n",
            "+---------------+\n",
            "only showing top 10 rows\n",
            "\n"
          ]
        }
      ]
    },
    {
      "cell_type": "markdown",
      "source": [
        "# Sentiment Analysis with lexicon files"
      ],
      "metadata": {
        "id": "6kVpzHOTK6rs"
      }
    },
    {
      "cell_type": "markdown",
      "source": [
        "## **Afinn_df**"
      ],
      "metadata": {
        "id": "hjpJPwVogd1q"
      }
    },
    {
      "cell_type": "markdown",
      "source": [
        " Match Words to Lexicon Entries:"
      ],
      "metadata": {
        "id": "VHZJ_ViXW4SF"
      }
    },
    {
      "cell_type": "code",
      "source": [
        "from pyspark.sql.functions import explode, col"
      ],
      "metadata": {
        "id": "ej3SFB4LWoHR"
      },
      "execution_count": 91,
      "outputs": []
    },
    {
      "cell_type": "code",
      "source": [
        "exploded_reviews = filtered_reviews.withColumn(\"words\", explode(col(\"filtered_words\")))\n",
        "joined_df = exploded_reviews.join(afinn_df, exploded_reviews.words == afinn_df.palabra, \"left_outer\")\n",
        "joined_df = joined_df.dropDuplicates(['id_review'])\n"
      ],
      "metadata": {
        "id": "Vqvx_cv8ZaMi"
      },
      "execution_count": 92,
      "outputs": []
    },
    {
      "cell_type": "markdown",
      "source": [
        "There's many reviews with mispelled words. I am going to drop those rows because I can't match them"
      ],
      "metadata": {
        "id": "mB7IgSx6ewbe"
      }
    },
    {
      "cell_type": "code",
      "source": [
        "joined_df = joined_df.na.drop(subset=[\"palabra\"])"
      ],
      "metadata": {
        "id": "FOmt6tRHe4GV"
      },
      "execution_count": 93,
      "outputs": []
    },
    {
      "cell_type": "code",
      "source": [
        "from pyspark.sql.functions import avg\n",
        "\n",
        "average_sentiment_scores = joined_df.groupBy('id_review').agg(avg('punctuacion').alias('average_sentiment_score'))\n",
        "\n",
        "#check for duplicates\n",
        "average_sentiment_scores = average_sentiment_scores.dropDuplicates(['id_review'])\n",
        "\n",
        "\n",
        "final_sentiment_scores = average_sentiment_scores.join(\n",
        "    filtered_reviews.select('id_review', 'service'),\n",
        "    on='id_review',\n",
        "    how='left'\n",
        ")\n",
        "\n",
        "final_sentiment_scores.show()"
      ],
      "metadata": {
        "id": "wdz_0a0Pc7rm",
        "colab": {
          "base_uri": "https://localhost:8080/"
        },
        "outputId": "1fae0d37-aaa3-4d6c-cdeb-4927ca127882"
      },
      "execution_count": 94,
      "outputs": [
        {
          "output_type": "stream",
          "name": "stdout",
          "text": [
            "+---------+-----------------------+--------+\n",
            "|id_review|average_sentiment_score| service|\n",
            "+---------+-----------------------+--------+\n",
            "| R1000005|                    3.0|265714.0|\n",
            "| R1000016|                    3.0|265714.0|\n",
            "| R1000022|                    2.0|265714.0|\n",
            "| R1000028|                    2.0|265714.0|\n",
            "|  R100003|                    2.0| 40012.0|\n",
            "| R1000050|                    2.0|265714.0|\n",
            "| R1000051|                    3.0|265714.0|\n",
            "| R1000053|                   -3.0|265714.0|\n",
            "| R1000054|                    3.0|265714.0|\n",
            "| R1000061|                    3.0|265714.0|\n",
            "| R1000067|                    2.0|265714.0|\n",
            "| R1000072|                    3.0|265714.0|\n",
            "| R1000083|                    2.0|265714.0|\n",
            "| R1000090|                   -3.0|265714.0|\n",
            "| R1000095|                    3.0|265714.0|\n",
            "| R1000107|                    2.0|265714.0|\n",
            "| R1000112|                    2.0|265714.0|\n",
            "|  R100022|                   -1.0| 40012.0|\n",
            "|  R100033|                    2.0| estor G|\n",
            "| R1000949|                    3.0|105934.0|\n",
            "+---------+-----------------------+--------+\n",
            "only showing top 20 rows\n",
            "\n"
          ]
        }
      ]
    },
    {
      "cell_type": "code",
      "source": [
        "from pyspark.sql.functions import col\n",
        "from pyspark.sql.types import IntegerType\n",
        "\n",
        "# Cast 'service' column to integer type to remove '.0'\n",
        "final_sentiment_scores = final_sentiment_scores.withColumn(\"service\", col(\"service\").cast(IntegerType()))\n"
      ],
      "metadata": {
        "id": "s7Tq3vDW6KIM"
      },
      "execution_count": 95,
      "outputs": []
    },
    {
      "cell_type": "code",
      "source": [
        "final_sentiment_scores.columns"
      ],
      "metadata": {
        "id": "7MhL0b7K1NIC",
        "colab": {
          "base_uri": "https://localhost:8080/"
        },
        "outputId": "88ff053b-d3f2-4072-cec4-c733f6ad135b"
      },
      "execution_count": 96,
      "outputs": [
        {
          "output_type": "execute_result",
          "data": {
            "text/plain": [
              "['id_review', 'average_sentiment_score', 'service']"
            ]
          },
          "metadata": {},
          "execution_count": 96
        }
      ]
    },
    {
      "cell_type": "code",
      "source": [
        "## I want to see the min and max values of the scores\n",
        "\n",
        "\n",
        "min_value = average_sentiment_scores.agg(min(\"average_sentiment_score\")).collect()[0][0]\n",
        "max_value = average_sentiment_scores.agg(max(\"average_sentiment_score\")).collect()[0][0]\n",
        "\n",
        "print(\"Minimum value:\", min_value)\n",
        "print(\"Maximum value:\", max_value)"
      ],
      "metadata": {
        "id": "hjMkKOVGISSd",
        "colab": {
          "base_uri": "https://localhost:8080/"
        },
        "outputId": "4b3164f3-31a7-4de1-a672-7fabf1b17565"
      },
      "execution_count": 97,
      "outputs": [
        {
          "output_type": "stream",
          "name": "stdout",
          "text": [
            "Minimum value: -5.0\n",
            "Maximum value: 5.0\n"
          ]
        }
      ]
    },
    {
      "cell_type": "markdown",
      "source": [
        "## **Nrc_df**"
      ],
      "metadata": {
        "id": "hnuBqx0ugurr"
      }
    },
    {
      "cell_type": "code",
      "source": [
        "joined_nrc_df = exploded_reviews.join(nrc_df, exploded_reviews.words == nrc_df.word, \"left_outer\")\n",
        "\n",
        "from pyspark.sql.functions import col, count\n",
        "emotion_counts_df = joined_nrc_df.groupBy(\"id_review\").pivot(\"sentiment\").count()\n",
        "emotion_counts_df.show()"
      ],
      "metadata": {
        "id": "BNyffaKcyM0j",
        "colab": {
          "base_uri": "https://localhost:8080/"
        },
        "outputId": "d59f2ba3-6037-40b2-cdc2-88c65516149a"
      },
      "execution_count": 98,
      "outputs": [
        {
          "output_type": "stream",
          "name": "stdout",
          "text": [
            "+---------+----+-------+------------+----+---------+------+-----+--------+--------+--------+--------+\n",
            "|id_review|null|alegría|anticipación|asco|confianza|enfado|miedo|negativo|positivo|sorpresa|tristeza|\n",
            "+---------+----+-------+------------+----+---------+------+-----+--------+--------+--------+--------+\n",
            "| R1000005|NULL|      1|        NULL|NULL|        1|  NULL| NULL|    NULL|       1|    NULL|    NULL|\n",
            "|  R100001|   6|      2|           1|   2|        2|     1|    3|       3|       4|       1|       2|\n",
            "| R1000011|   5|      1|           2|NULL|        1|  NULL| NULL|    NULL|       1|    NULL|    NULL|\n",
            "| R1000014|   2|   NULL|           1|NULL|        1|  NULL| NULL|    NULL|       4|    NULL|    NULL|\n",
            "| R1000022|NULL|      1|        NULL|NULL|        1|  NULL| NULL|    NULL|       1|    NULL|    NULL|\n",
            "| R1000027|   1|   NULL|        NULL|NULL|     NULL|  NULL|    1|    NULL|    NULL|    NULL|    NULL|\n",
            "| R1000028|NULL|      1|        NULL|NULL|        1|  NULL| NULL|    NULL|       1|    NULL|    NULL|\n",
            "|  R100003|  10|      1|           1|NULL|        1|  NULL|    1|       1|       3|       1|    NULL|\n",
            "| R1000043|NULL|   NULL|        NULL|   1|     NULL|     1|    1|       1|       2|    NULL|       1|\n",
            "|  R100005|  10|   NULL|        NULL|NULL|     NULL|  NULL|    1|    NULL|       3|    NULL|    NULL|\n",
            "| R1000053|   3|   NULL|        NULL|NULL|     NULL|  NULL|    1|       1|       2|    NULL|       1|\n",
            "| R1000054|NULL|      1|        NULL|NULL|        1|  NULL| NULL|    NULL|       1|    NULL|    NULL|\n",
            "| R1000056|   3|   NULL|        NULL|NULL|     NULL|  NULL|    1|    NULL|    NULL|    NULL|    NULL|\n",
            "|  R100006|  13|      1|           1|NULL|     NULL|  NULL| NULL|    NULL|       2|       1|    NULL|\n",
            "| R1000061|NULL|      1|        NULL|NULL|        1|  NULL| NULL|    NULL|       3|    NULL|    NULL|\n",
            "| R1000072|NULL|   NULL|        NULL|NULL|     NULL|  NULL| NULL|    NULL|       3|    NULL|    NULL|\n",
            "| R1000077|NULL|   NULL|        NULL|NULL|     NULL|  NULL| NULL|    NULL|       1|    NULL|    NULL|\n",
            "| R1000080|   2|      1|        NULL|   1|        1|     1|    1|       1|       1|    NULL|    NULL|\n",
            "| R1000083|   1|   NULL|        NULL|NULL|     NULL|  NULL| NULL|    NULL|       1|    NULL|    NULL|\n",
            "| R1000090|   2|   NULL|        NULL|   1|     NULL|     1|    2|       1|    NULL|    NULL|       1|\n",
            "+---------+----+-------+------------+----+---------+------+-----+--------+--------+--------+--------+\n",
            "only showing top 20 rows\n",
            "\n"
          ]
        }
      ]
    },
    {
      "cell_type": "markdown",
      "source": [
        "After looking at the result, I believe adding this analysis to the aggregate would not add much to the final result. Therefore, I will work solely with the Affin and Score analysis from now on."
      ],
      "metadata": {
        "id": "aa697NHCRncs"
      }
    },
    {
      "cell_type": "markdown",
      "source": [
        "# Agregating the Sentiment Analysis"
      ],
      "metadata": {
        "id": "rmuE0V1G4so1"
      }
    },
    {
      "cell_type": "code",
      "source": [
        "# Normalize the sentiment score\n",
        "final_sentiment_scores = final_sentiment_scores.withColumn(\n",
        "    \"normalized_score\",\n",
        "    ((col(\"average_sentiment_score\") + 5) / 10)\n",
        ")\n",
        "\n",
        "# Show the results to verify\n",
        "final_sentiment_scores.show()"
      ],
      "metadata": {
        "id": "LoCRY4714012",
        "colab": {
          "base_uri": "https://localhost:8080/"
        },
        "outputId": "cb7902b4-d20a-40d0-9616-7e512ff2a9ac"
      },
      "execution_count": 99,
      "outputs": [
        {
          "output_type": "stream",
          "name": "stdout",
          "text": [
            "+---------+-----------------------+-------+----------------+\n",
            "|id_review|average_sentiment_score|service|normalized_score|\n",
            "+---------+-----------------------+-------+----------------+\n",
            "| R1000005|                    3.0| 265714|             0.8|\n",
            "| R1000016|                    3.0| 265714|             0.8|\n",
            "| R1000022|                    2.0| 265714|             0.7|\n",
            "| R1000028|                    2.0| 265714|             0.7|\n",
            "|  R100003|                    2.0|  40012|             0.7|\n",
            "| R1000050|                    2.0| 265714|             0.7|\n",
            "| R1000051|                    3.0| 265714|             0.8|\n",
            "| R1000053|                   -3.0| 265714|             0.2|\n",
            "| R1000054|                    3.0| 265714|             0.8|\n",
            "| R1000061|                    3.0| 265714|             0.8|\n",
            "| R1000067|                    2.0| 265714|             0.7|\n",
            "| R1000072|                    3.0| 265714|             0.8|\n",
            "| R1000083|                    2.0| 265714|             0.7|\n",
            "| R1000090|                   -3.0| 265714|             0.2|\n",
            "| R1000095|                    3.0| 265714|             0.8|\n",
            "| R1000107|                    2.0| 265714|             0.7|\n",
            "| R1000112|                    2.0| 265714|             0.7|\n",
            "|  R100022|                   -1.0|  40012|             0.4|\n",
            "|  R100033|                    2.0|   NULL|             0.7|\n",
            "| R1000949|                    3.0| 105934|             0.8|\n",
            "+---------+-----------------------+-------+----------------+\n",
            "only showing top 20 rows\n",
            "\n"
          ]
        }
      ]
    },
    {
      "cell_type": "code",
      "source": [
        "# Normalize the rating score\n",
        "\n",
        "final_rating_scores = filtered_reviews.withColumn(\n",
        "    \"normalized_score_r\",\n",
        "    (col(\"score\") / 5)\n",
        ")\n",
        "\n",
        "final_rating_scores.show()"
      ],
      "metadata": {
        "id": "A_GrKAsW7nLB",
        "colab": {
          "base_uri": "https://localhost:8080/"
        },
        "outputId": "b2270130-3b53-4ce2-b3af-3c8bc0b10bef"
      },
      "execution_count": 100,
      "outputs": [
        {
          "output_type": "stream",
          "name": "stdout",
          "text": [
            "+---------+--------------------+--------+-----+--------------------+--------------------+------------------+\n",
            "|id_review|              review| service|score|               words|      filtered_words|normalized_score_r|\n",
            "+---------+--------------------+--------+-----+--------------------+--------------------+------------------+\n",
            "| R1000003|se come bien parr...|265714.0|  5.0|[se, come, bien, ...|   [come, parrillas]|               1.0|\n",
            "| R1000005|           excelente|265714.0|  5.0|         [excelente]|         [excelente]|               1.0|\n",
            "| R1000006|    los muñequitos o|265714.0|  3.0|[los, muñequitos, o]|        [muñequitos]|               0.6|\n",
            "|  R100001|la comida es buen...| 40012.0|  3.0|[la, comida, es, ...|[comida, duda, es...|               0.6|\n",
            "| R1000011|se puede pasar bu...|265714.0|  5.0|[se, puede, pasar...|[pasar, momentos,...|               1.0|\n",
            "| R1000013|el pollito riquísimo|265714.0|  4.0|[el, pollito, riq...|[pollito, riquísimo]|               0.8|\n",
            "| R1000014|mucha gente pero ...|265714.0|  3.0|[mucha, gente, pe...|[gente, nota, esf...|               0.6|\n",
            "| R1000016|        lugar bonito|265714.0|  5.0|     [lugar, bonito]|            [bonito]|               1.0|\n",
            "| R1000018|no pasa nada con ...|265714.0|  2.0|[no, pasa, nada, ...|[pasa, ensaladas,...|               0.4|\n",
            "| R1000022|          buen gusto|265714.0|  5.0|       [buen, gusto]|             [gusto]|               1.0|\n",
            "| R1000025|   pollos a la brasa|265714.0|  3.0|[pollos, a, la, b...|     [pollos, brasa]|               0.6|\n",
            "| R1000027|      pollo y chaufa|265714.0|  5.0|  [pollo, y, chaufa]|     [pollo, chaufa]|               1.0|\n",
            "| R1000028|         no me gusto|265714.0|  2.0|     [no, me, gusto]|             [gusto]|               0.4|\n",
            "|  R100003|muy rico el pollo...| 40012.0|  3.0|[muy, rico, el, p...|[rico, pollo, bra...|               0.6|\n",
            "| R1000031|    buenas parrillas|265714.0|  4.0| [buenas, parrillas]|         [parrillas]|               0.8|\n",
            "| R1000038|           buenazooo|265714.0|  5.0|         [buenazooo]|         [buenazooo]|               1.0|\n",
            "| R1000043|       mala atención|265714.0|  1.0|    [mala, atención]|    [mala, atención]|               0.2|\n",
            "| R1000044|             chevere|265714.0|  4.0|           [chevere]|           [chevere]|               0.8|\n",
            "| R1000047|              pollos|265714.0|  3.0|            [pollos]|            [pollos]|               0.6|\n",
            "|  R100005|uhhmmmm muy rico ...| 40012.0|  5.0|[uhhmmmm, muy, ri...|[uhhmmmm, rico, p...|               1.0|\n",
            "+---------+--------------------+--------+-----+--------------------+--------------------+------------------+\n",
            "only showing top 20 rows\n",
            "\n"
          ]
        }
      ]
    },
    {
      "cell_type": "code",
      "source": [
        "## Join the normalized scores\n",
        "\n",
        "joined = final_sentiment_scores.join(\n",
        "    final_rating_scores.select('id_review', 'normalized_score_r'),\n",
        "    on='id_review',\n",
        "    how='inner'\n",
        ")\n",
        "\n",
        "joined = joined.na.drop()\n",
        "\n",
        "joined.show()"
      ],
      "metadata": {
        "id": "GuoMoJoZ8bB_",
        "colab": {
          "base_uri": "https://localhost:8080/"
        },
        "outputId": "db3ecc75-e97d-4e55-e783-6fab22558455"
      },
      "execution_count": 101,
      "outputs": [
        {
          "output_type": "stream",
          "name": "stdout",
          "text": [
            "+---------+-----------------------+-------+----------------+------------------+\n",
            "|id_review|average_sentiment_score|service|normalized_score|normalized_score_r|\n",
            "+---------+-----------------------+-------+----------------+------------------+\n",
            "| R1000016|                    3.0| 265714|             0.8|               1.0|\n",
            "| R1000022|                    2.0| 265714|             0.7|               1.0|\n",
            "| R1000028|                    2.0| 265714|             0.7|               0.4|\n",
            "|  R100003|                    2.0|  40012|             0.7|               0.6|\n",
            "| R1000050|                    2.0| 265714|             0.7|               0.8|\n",
            "| R1000051|                    3.0| 265714|             0.8|               0.8|\n",
            "| R1000053|                   -3.0| 265714|             0.2|               0.2|\n",
            "| R1000061|                    3.0| 265714|             0.8|               1.0|\n",
            "| R1000067|                    2.0| 265714|             0.7|               0.8|\n",
            "| R1000072|                    3.0| 265714|             0.8|               0.8|\n",
            "| R1000083|                    2.0| 265714|             0.7|               0.8|\n",
            "| R1000090|                   -3.0| 265714|             0.2|               0.2|\n",
            "| R1000095|                    3.0| 265714|             0.8|               1.0|\n",
            "| R1000107|                    2.0| 265714|             0.7|               1.0|\n",
            "|  R100022|                   -1.0|  40012|             0.4|               0.8|\n",
            "| R1000949|                    3.0| 105934|             0.8|               1.0|\n",
            "| R1000971|                   -2.0| 105934|             0.3|               0.2|\n",
            "| R1000980|                    2.0| 105934|             0.7|               0.8|\n",
            "| R1001024|                   -1.0| 105934|             0.4|               1.0|\n",
            "| R1001028|                    3.0| 105934|             0.8|               1.0|\n",
            "+---------+-----------------------+-------+----------------+------------------+\n",
            "only showing top 20 rows\n",
            "\n"
          ]
        }
      ]
    },
    {
      "cell_type": "code",
      "source": [
        "joined = joined.withColumn(\n",
        "    \"average\",\n",
        "    ((col(\"normalized_score_r\") +col(\"normalized_score\"))/2)\n",
        ")\n",
        "joined.show()"
      ],
      "metadata": {
        "id": "slG_OVJV_mv8",
        "colab": {
          "base_uri": "https://localhost:8080/"
        },
        "outputId": "79e2922b-32a8-450b-d6ed-735b503ec123"
      },
      "execution_count": 102,
      "outputs": [
        {
          "output_type": "stream",
          "name": "stdout",
          "text": [
            "+---------+-----------------------+-------+----------------+------------------+------------------+\n",
            "|id_review|average_sentiment_score|service|normalized_score|normalized_score_r|           average|\n",
            "+---------+-----------------------+-------+----------------+------------------+------------------+\n",
            "| R1000016|                    3.0| 265714|             0.8|               1.0|               0.9|\n",
            "| R1000022|                    2.0| 265714|             0.7|               1.0|              0.85|\n",
            "| R1000028|                    2.0| 265714|             0.7|               0.4|              0.55|\n",
            "|  R100003|                    2.0|  40012|             0.7|               0.6|0.6499999999999999|\n",
            "| R1000050|                    2.0| 265714|             0.7|               0.8|              0.75|\n",
            "| R1000051|                    3.0| 265714|             0.8|               0.8|               0.8|\n",
            "| R1000053|                   -3.0| 265714|             0.2|               0.2|               0.2|\n",
            "| R1000061|                    3.0| 265714|             0.8|               1.0|               0.9|\n",
            "| R1000067|                    2.0| 265714|             0.7|               0.8|              0.75|\n",
            "| R1000072|                    3.0| 265714|             0.8|               0.8|               0.8|\n",
            "| R1000083|                    2.0| 265714|             0.7|               0.8|              0.75|\n",
            "| R1000090|                   -3.0| 265714|             0.2|               0.2|               0.2|\n",
            "| R1000095|                    3.0| 265714|             0.8|               1.0|               0.9|\n",
            "| R1000107|                    2.0| 265714|             0.7|               1.0|              0.85|\n",
            "|  R100022|                   -1.0|  40012|             0.4|               0.8|0.6000000000000001|\n",
            "| R1000949|                    3.0| 105934|             0.8|               1.0|               0.9|\n",
            "| R1000971|                   -2.0| 105934|             0.3|               0.2|              0.25|\n",
            "| R1000980|                    2.0| 105934|             0.7|               0.8|              0.75|\n",
            "| R1001024|                   -1.0| 105934|             0.4|               1.0|               0.7|\n",
            "| R1001028|                    3.0| 105934|             0.8|               1.0|               0.9|\n",
            "+---------+-----------------------+-------+----------------+------------------+------------------+\n",
            "only showing top 20 rows\n",
            "\n"
          ]
        }
      ]
    },
    {
      "cell_type": "markdown",
      "source": [
        "# Display the names of the restaurants with the best reviews"
      ],
      "metadata": {
        "id": "BhDQUp4mBmDE"
      }
    },
    {
      "cell_type": "code",
      "source": [
        "from pyspark.sql import functions as F\n",
        "\n",
        "best_reviews = joined.join(\n",
        "    restaurants,\n",
        "    joined.service == restaurants.id\n",
        ").orderBy(col('average').desc())\n",
        "\n",
        "# select the restaurant names and sentiment scores.\n",
        "best_reviews = best_reviews.filter(F.col('average') == 1)\n",
        "best_reviews.show(10)"
      ],
      "metadata": {
        "id": "xRPnLqLtBp85",
        "colab": {
          "base_uri": "https://localhost:8080/"
        },
        "outputId": "b8f4e4d7-a748-481c-da3b-8719e76cba88"
      },
      "execution_count": 103,
      "outputs": [
        {
          "output_type": "stream",
          "name": "stdout",
          "text": [
            "+---------+-----------------------+-------+----------------+------------------+-------+------+--------------------+-----------+\n",
            "|id_review|average_sentiment_score|service|normalized_score|normalized_score_r|average|    id|                name|   district|\n",
            "+---------+-----------------------+-------+----------------+------------------+-------+------+--------------------+-----------+\n",
            "| R1017141|                    5.0| 124060|             1.0|               1.0|    1.0|124060|                Cala|   BARRANCO|\n",
            "| R1015826|                    5.0|  28926|             1.0|               1.0|    1.0| 28926|LA BODEGA DE LA T...| SAN ISIDRO|\n",
            "| R1003655|                    5.0| 113187|             1.0|               1.0|    1.0|113187|             Rustica| LOS OLIVOS|\n",
            "| R1032797|                    5.0| 195070|             1.0|               1.0|    1.0|195070|San Antonio - Cha...|  SAN BORJA|\n",
            "| R1058147|                    5.0|  42658|             1.0|               1.0|    1.0| 42658|   Callao Monumental|           |\n",
            "| R1047065|                    5.0| 233007|             1.0|               1.0|    1.0|233007|Cevichería Puro T...|LA VICTORIA|\n",
            "| R1015287|                    5.0| 190721|             1.0|               1.0|    1.0|190721|        La Preferida| MIRAFLORES|\n",
            "| R1058109|                    5.0|  42658|             1.0|               1.0|    1.0| 42658|   Callao Monumental|           |\n",
            "| R1029501|                    5.0| 200186|             1.0|               1.0|    1.0|200186|Don Belisario Pol...|JESUS MARIA|\n",
            "| R1138426|                    5.0|  45317|             1.0|               1.0|    1.0| 45317|Restaurante Moche...|  SAN BORJA|\n",
            "+---------+-----------------------+-------+----------------+------------------+-------+------+--------------------+-----------+\n",
            "only showing top 10 rows\n",
            "\n"
          ]
        }
      ]
    },
    {
      "cell_type": "code",
      "source": [
        "best_reviews.count()"
      ],
      "metadata": {
        "colab": {
          "base_uri": "https://localhost:8080/"
        },
        "id": "foG2bW-ncn40",
        "outputId": "6bea18b7-a2f3-435d-fa77-7228d8b0b1f1"
      },
      "execution_count": 65,
      "outputs": [
        {
          "output_type": "execute_result",
          "data": {
            "text/plain": [
              "195"
            ]
          },
          "metadata": {},
          "execution_count": 65
        }
      ]
    },
    {
      "cell_type": "markdown",
      "source": [
        "There are 195 restaurants in our **best_reviews** dataframe. I could choose randomly from these places, but in order to keep narrowing the list down, I will find out which places are near to our hotel, which is located in San Isidro district."
      ],
      "metadata": {
        "id": "v89GIN8EeL9R"
      }
    },
    {
      "cell_type": "code",
      "source": [
        "barranco_reviews = best_reviews.filter(F.col('district') == 'SAN ISIDRO')\n",
        "barranco_reviews.show()"
      ],
      "metadata": {
        "colab": {
          "base_uri": "https://localhost:8080/"
        },
        "id": "Fkbh6BTHepwP",
        "outputId": "f06c1cf8-4413-4639-e643-27651b9a2d17"
      },
      "execution_count": 106,
      "outputs": [
        {
          "output_type": "stream",
          "name": "stdout",
          "text": [
            "+---------+-----------------------+-------+----------------+------------------+-------+------+--------------------+----------+\n",
            "|id_review|average_sentiment_score|service|normalized_score|normalized_score_r|average|    id|                name|  district|\n",
            "+---------+-----------------------+-------+----------------+------------------+-------+------+--------------------+----------+\n",
            "| R1184829|                    5.0| 187573|             1.0|               1.0|    1.0|187573|            Amoramar|SAN ISIDRO|\n",
            "| R1015826|                    5.0|  28926|             1.0|               1.0|    1.0| 28926|LA BODEGA DE LA T...|SAN ISIDRO|\n",
            "| R1163350|                    5.0| 165911|             1.0|               1.0|    1.0|165911|              Bembos|SAN ISIDRO|\n",
            "|   R70889|                    5.0|  54216|             1.0|               1.0|    1.0| 54216|               Cosme|SAN ISIDRO|\n",
            "| R1507214|                    5.0|  37214|             1.0|               1.0|    1.0| 37214|       Café A Bistro|SAN ISIDRO|\n",
            "|  R126616|                    5.0| 174493|             1.0|               1.0|    1.0|174493|      Bravo Restobar|SAN ISIDRO|\n",
            "| R1679786|                    5.0|  49495|             1.0|               1.0|    1.0| 49495|ORIGEN TOSTADORES...|SAN ISIDRO|\n",
            "| R1703502|                    5.0|  13298|             1.0|               1.0|    1.0| 13298| Restaurante Vivaldi|SAN ISIDRO|\n",
            "|  R669023|                    5.0| 145070|             1.0|               1.0|    1.0|145070|     D' Tinto & Bife|SAN ISIDRO|\n",
            "|   R55842|                    5.0|  49708|             1.0|               1.0|    1.0| 49708|         La Bistecca|SAN ISIDRO|\n",
            "|   R88653|                    5.0|  72471|             1.0|               1.0|    1.0| 72471|   Maras Restaurante|SAN ISIDRO|\n",
            "|  R689862|                    5.0| 144835|             1.0|               1.0|    1.0|144835|         La Latteria|SAN ISIDRO|\n",
            "|  R749317|                    5.0| 161073|             1.0|               1.0|    1.0|161073| LongHorn San Isidro|SAN ISIDRO|\n",
            "|  R826769|                    5.0|  71658|             1.0|               1.0|    1.0| 71658|Perroquet Restaur...|SAN ISIDRO|\n",
            "+---------+-----------------------+-------+----------------+------------------+-------+------+--------------------+----------+\n",
            "\n"
          ]
        }
      ]
    },
    {
      "cell_type": "markdown",
      "source": [
        "# Thoughts and ways of improvement"
      ],
      "metadata": {
        "id": "gHIXLh4i_a_i"
      }
    },
    {
      "cell_type": "markdown",
      "source": [
        "*In order to have a better sense of recommendation, it would've been useful to add a new category. Perhaps add a method to be able to filter restaurants by type of cuisine and/or price range.\n",
        " Finally,if there was a way to take care of those mispellings we would've had a much richer range of reviews, making more robust predictions on how good a restaurant is.*"
      ],
      "metadata": {
        "id": "cei14FKa_q80"
      }
    },
    {
      "cell_type": "code",
      "source": [],
      "metadata": {
        "id": "PX-U032uAD1Q"
      },
      "execution_count": null,
      "outputs": []
    }
  ]
}